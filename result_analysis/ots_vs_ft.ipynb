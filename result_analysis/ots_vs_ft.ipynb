{
 "cells": [
  {
   "cell_type": "markdown",
   "metadata": {},
   "source": [
    "Compares performance off the shelf methods to fine tuning methods in terms of accuracy/computation time\n",
    "tradeoff.\n",
    "\n",
    "Will likely not use this in the paper tho :-( At best in the appendix"
   ]
  },
  {
   "cell_type": "code",
   "execution_count": null,
   "metadata": {},
   "outputs": [],
   "source": [
    "import os\n",
    "import pandas as pd\n",
    "import matplotlib.pyplot as plt"
   ]
  },
  {
   "cell_type": "code",
   "execution_count": null,
   "metadata": {},
   "outputs": [],
   "source": [
    "ots_dir = \"/home/vincent/Documenten/BachelorsProject/GitHub_Repo/results/ots_type\"\n",
    "ft_dir = \"/home/vincent/Documenten/BachelorsProject/GitHub_Repo/results/ft_type\"\n",
    "target_dir = \"/home/vincent/Documenten/BachelorsProject/GitHub_Repo/results/ots_vs_ft\"\n",
    "dataset = \"type\"\n",
    "\n",
    "models = {\n",
    "    \"vit_\": {\"vit\": True},\n",
    "    \"swin_\": {\"vit\": True},\n",
    "    \"beit_\": {\"vit\": True},\n",
    "    \"deit_\": {\"vit\": True},\n",
    "    \"vgg19\": {\"vit\": False},\n",
    "    \"resnet50\": {\"vit\": False},\n",
    "    \"efficientnetv2_\": {\"vit\": False},\n",
    "    \"convnext_\": {\"vit\": False}\n",
    "}"
   ]
  },
  {
   "cell_type": "code",
   "execution_count": null,
   "metadata": {},
   "outputs": [],
   "source": [
    "for model in models:\n",
    "    for method, folder in zip([\"ots\", \"ft\"], [ots_dir, ft_dir]):\n",
    "        df = pd.read_csv(os.path.join(folder, \"durations.csv\"))\n",
    "        models[model][f\"{method}_dur\"] = float(df[df[\"model\"].str.find(model) >= 0][\"time_mean\"])\n",
    "        models[model][f\"{method}_dur_std\"] = float(df[df[\"model\"].str.find(model) >= 0][\"time_std\"])\n",
    "\n",
    "        models[model][f\"{method}_epoch_dur\"] = float(df[df[\"model\"].str.find(model) >= 0][\"epoch_time_mean\"])\n",
    "        models[model][f\"{method}_epoch_dur_std\"] = float(df[df[\"model\"].str.find(model) >= 0][\"epoch_time_std\"])\n",
    "\n",
    "        df = pd.read_csv(os.path.join(folder, \"test-stats.csv\"))\n",
    "        models[model][f\"{method}_acc\"] = float(df[df[\"model\"].str.find(model) >= 0][\"accuracy_mean\"])\n",
    "        models[model][f\"{method}_acc_std\"] = float(df[df[\"model\"].str.find(model) >= 0][\"accuracy_std\"])\n",
    "\n",
    "# I really dropped the ball on coding here XD\n",
    "for method, folder in zip([\"ots\", \"ft\"], [ots_dir, ft_dir]):\n",
    "    for file in os.scandir(folder):\n",
    "        if file.is_file():\n",
    "            for model in models:\n",
    "                if model in file.name:\n",
    "                    models[model][f\"{method}_val\"] = pd.read_csv(file.path)[\"mean_acc\"].to_numpy() + 0 * pd.read_csv(file.path)[\"std_acc\"].to_numpy()\n",
    "                    break"
   ]
  },
  {
   "cell_type": "code",
   "execution_count": null,
   "metadata": {},
   "outputs": [],
   "source": [
    "ots_vit = \"#007187\"\n",
    "ots_cnn = \"#05a344\"\n",
    "ft_vit = \"#420136\"\n",
    "ft_cnn = \"#d12506\"\n",
    "\n",
    "def accAgainstTime(acc, epoch_time, col):\n",
    "    x = [(epoch_time / 60) * (1 + ep) for ep in range(len(acc))]\n",
    "    plt.plot(x, acc, color=col, linewidth=0.7)\n",
    "\n",
    "for model in models:\n",
    "    color = ots_vit if models[model][\"vit\"] else ots_cnn\n",
    "    accAgainstTime(models[model][\"ots_val\"], models[model][\"ots_epoch_dur\"], color)\n",
    "\n",
    "    color = ft_vit if models[model][\"vit\"] else ft_cnn\n",
    "    accAgainstTime(models[model][\"ft_val\"], models[model][\"ft_epoch_dur\"], color)\n",
    "\n",
    "plt.grid()\n",
    "plt.xlabel(\"Training time (minutes)\")\n",
    "plt.ylabel(\"Mean validation accuracy\")\n",
    "plt.ylim(top=.95, bottom=0.7)\n",
    "\n",
    "fig = plt.gcf()\n",
    "fig.set_size_inches(5, 6)\n",
    "\n",
    "forlegend = [\n",
    "    plt.Line2D([0], [0], color=ots_vit, label=\"off-the-shelf vit\"),\n",
    "    plt.Line2D([0], [0], color=ots_cnn, label=\"off-the-shelf cnn\"),\n",
    "    plt.Line2D([0], [0], color=ft_vit, label=\"fine-tuned vit\"),\n",
    "    plt.Line2D([0], [0], color=ft_cnn, label=\"fine-tuned cnn\")\n",
    "]\n",
    "plt.legend(handles=forlegend)\n",
    "\n",
    "# plt.show()\n",
    "plt.savefig(os.path.join(target_dir, f\"val_acc_vs_time_{dataset}.svg\"), format=\"svg\")"
   ]
  },
  {
   "cell_type": "code",
   "execution_count": null,
   "metadata": {},
   "outputs": [],
   "source": [
    "def markDot(x, y, x_std, y_std, col):\n",
    "    plt.plot([x], [y], marker=\"o\", color=col)\n",
    "\n",
    "    x_err = [x - x_std, x, x + x_std]\n",
    "    y1_err = [y, y + y_std, y]\n",
    "    y2_err = [y, y - y_std, y]\n",
    "\n",
    "    plt.fill_between(x_err, y1=y1_err, y2=y2_err, alpha=0.4, color=col)\n",
    "\n",
    "for model in models:\n",
    "    color = ots_vit if models[model][\"vit\"] else ots_cnn\n",
    "    markDot(models[model][\"ots_epoch_dur\"], models[model][\"ots_acc\"], models[model][\"ots_epoch_dur_std\"], models[model][\"ots_acc_std\"], color)\n",
    "\n",
    "    color = ft_vit if models[model][\"vit\"] else ft_cnn\n",
    "    markDot(models[model][\"ft_epoch_dur\"], models[model][\"ft_acc\"], models[model][\"ft_epoch_dur_std\"], models[model][\"ft_acc_std\"], color)\n",
    "\n",
    "plt.grid()\n",
    "plt.xlabel(r\"Seconds per epoch ($\\bar{x} \\pm s$)\")\n",
    "plt.ylabel(r\"Testing accuracy ($\\bar{x} \\pm s$)\")\n",
    "\n",
    "fig = plt.gcf()\n",
    "fig.set_size_inches(5, 6)\n",
    "\n",
    "forlegend = [\n",
    "    plt.Line2D([0], [0], color=ots_vit, label=\"off-the-shelf vit\", marker=\"o\", linewidth=0.0),\n",
    "    plt.Line2D([0], [0], color=ots_cnn, label=\"off-the-shelf cnn\", marker=\"o\", linewidth=0.0),\n",
    "    plt.Line2D([0], [0], color=ft_vit, label=\"fine-tuned vit\", marker=\"o\", linewidth=0.0),\n",
    "    plt.Line2D([0], [0], color=ft_cnn, label=\"fine-tuned cnn\", marker=\"o\", linewidth=0.0)\n",
    "]\n",
    "plt.legend(handles=forlegend)\n",
    "\n",
    "# plt.show()\n",
    "plt.savefig(os.path.join(target_dir, f\"test_acc_vs_epoch_time_{dataset}.svg\"), format=\"svg\")"
   ]
  }
 ],
 "metadata": {
  "interpreter": {
   "hash": "916dbcbb3f70747c44a77c7bcd40155683ae19c65e1c03b4aa3499c5328201f1"
  },
  "kernelspec": {
   "display_name": "Python 3.10.4 64-bit",
   "language": "python",
   "name": "python3"
  },
  "language_info": {
   "codemirror_mode": {
    "name": "ipython",
    "version": 3
   },
   "file_extension": ".py",
   "mimetype": "text/x-python",
   "name": "python",
   "nbconvert_exporter": "python",
   "pygments_lexer": "ipython3",
   "version": "3.10.4"
  },
  "orig_nbformat": 4
 },
 "nbformat": 4,
 "nbformat_minor": 2
}
