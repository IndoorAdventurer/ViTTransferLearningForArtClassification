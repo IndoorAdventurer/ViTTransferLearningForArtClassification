{
 "cells": [
  {
   "cell_type": "code",
   "execution_count": 1,
   "metadata": {},
   "outputs": [],
   "source": [
    "import pandas as pd\n",
    "import matplotlib.pyplot as plt\n",
    "import numpy as np"
   ]
  },
  {
   "cell_type": "code",
   "execution_count": 2,
   "metadata": {},
   "outputs": [],
   "source": [
    "swin_ots = pd.read_csv('/home/vincent/Documenten/BachelorsProject/ots_type/ots_type0_swin_b-test_confusion.csv')\n",
    "conv_ots = pd.read_csv('/home/vincent/Documenten/BachelorsProject/ots_type/ots_type0_convnext_b-test_confusion.csv')\n",
    "swin_ft = pd.read_csv('/home/vincent/Documenten/BachelorsProject/ft_type/ft_type0_swin_b_drop-test_confusion.csv')\n",
    "conv_ft = pd.read_csv('/home/vincent/Documenten/BachelorsProject/ft_type/ft_type0_convnext_b_drop-test_confusion.csv')\n"
   ]
  },
  {
   "cell_type": "code",
   "execution_count": 3,
   "metadata": {},
   "outputs": [],
   "source": [
    "# Getting the confusion matrices\n",
    "types = swin_ots.columns[1:].to_list()\n",
    "swin_ots = swin_ots[types].to_numpy()\n",
    "conv_ots = conv_ots[types].to_numpy()\n",
    "swin_ft = swin_ft[types].to_numpy()\n",
    "conv_ft = conv_ft[types].to_numpy()"
   ]
  },
  {
   "cell_type": "code",
   "execution_count": 4,
   "metadata": {},
   "outputs": [],
   "source": [
    "# Changing them to the desired form\n",
    "swin_ots = (swin_ots / swin_ots.sum(axis=0)).T\n",
    "conv_ots = (conv_ots / conv_ots.sum(axis=0)).T\n",
    "swin_ft = (swin_ft / swin_ft.sum(axis=0)).T\n",
    "conv_ft = (conv_ft / conv_ft.sum(axis=0)).T"
   ]
  },
  {
   "cell_type": "code",
   "execution_count": 5,
   "metadata": {},
   "outputs": [],
   "source": [
    "# Getting the labels\n",
    "translation = {\n",
    "    'beeld': 'statue',\n",
    "    'beeldhouwwerk': 'sculpture',\n",
    "    'boek': 'book',\n",
    "    'bord (vaatwerk)': 'plate',\n",
    "    'carte-de-visite': 'carte de visite',\n",
    "    'demonstratiemodel': 'demo model',\n",
    "    'doos': 'box',\n",
    "    'fles': 'bottle',\n",
    "    'foto': 'picture',\n",
    "    'historiepenning': 'history token',\n",
    "    'kan': 'can',\n",
    "    'kandelaar': 'candle holder',\n",
    "    'kom': 'bowl',\n",
    "    'kop': 'cup',\n",
    "    'kop-en-schotel': 'cup and saucer',\n",
    "    'miniatuur': 'miniature',\n",
    "    'pot': 'pot',\n",
    "    'prent': 'engraving',\n",
    "    'ruit': 'window pane',\n",
    "    'schaal (objectnaam)': 'plate',\n",
    "    'schilderij': 'painting',\n",
    "    'schotel': 'saucer',\n",
    "    'tekening': 'drawing',\n",
    "    'tekstblad': 'text sheet',\n",
    "    'tsuba': 'tsuba',\n",
    "    'vaas': 'vase',\n",
    "    'vuursteenpistool': 'flint gun',\n",
    "    'wandtapijt': 'tapestry',\n",
    "    'werfmodel': 'yard model',\n",
    "    'wijnglas': 'wine glass'}\n",
    "\n",
    "types_translated = [translation[x] for x in types]"
   ]
  },
  {
   "cell_type": "code",
   "execution_count": 101,
   "metadata": {},
   "outputs": [
    {
     "data": {
      "text/plain": [
       "<Figure size 504x504 with 0 Axes>"
      ]
     },
     "metadata": {},
     "output_type": "display_data"
    }
   ],
   "source": [
    "def showSingleConf(conf, name):\n",
    "    plt.figure(figsize=(7,7))\n",
    "    plt.imshow(conf)\n",
    "    \n",
    "    plt.yticks(range(30), types_translated)\n",
    "    plt.xticks(range(30), types_translated, rotation=\"vertical\")\n",
    "    plt.grid(alpha=0.5)\n",
    "\n",
    "    plt.ylabel('Actual class')\n",
    "    plt.xlabel('Predicted class')\n",
    "\n",
    "    plt.colorbar(shrink=0.73)\n",
    "\n",
    "    # plt.show()\n",
    "    plt.tight_layout()\n",
    "    plt.savefig(name + \"_confusion.svg\", format='svg')\n",
    "    plt.clf()\n",
    "\n",
    "showSingleConf(swin_ots, 'swin_ots')\n",
    "showSingleConf(conv_ots, 'convnext_ots')\n",
    "showSingleConf(swin_ft, 'swin_ft')\n",
    "showSingleConf(conv_ft, 'convnext_ft')"
   ]
  },
  {
   "cell_type": "code",
   "execution_count": 99,
   "metadata": {},
   "outputs": [
    {
     "data": {
      "text/plain": [
       "<Figure size 756x403.2 with 0 Axes>"
      ]
     },
     "metadata": {},
     "output_type": "display_data"
    },
    {
     "data": {
      "text/plain": [
       "<Figure size 756x403.2 with 0 Axes>"
      ]
     },
     "metadata": {},
     "output_type": "display_data"
    }
   ],
   "source": [
    "def showTwoConfs(conf1, conf2, name):\n",
    "    ratio = 0.7\n",
    "    fig = plt.figure(figsize=(15 * ratio,8 * ratio))\n",
    "    ax1 = plt.subplot2grid((1,42), (0,0), colspan=20)\n",
    "    ax2 = plt.subplot2grid((1,42), (0,20), colspan=20)\n",
    "    #ax2.sharey(ax1)\n",
    "    ax3 = plt.subplot2grid((1,42), (0,40), colspan=2)\n",
    "    a1 = ax1.imshow(conf1)\n",
    "    ax2.imshow(conf2)\n",
    "    fig.colorbar(a1, cax=ax3)\n",
    "\n",
    "    ax1.set_yticks(range(30), labels=types_translated)\n",
    "    ax2.set_yticks(range(30), labels=[\"\" for x in types_translated])\n",
    "    ax1.set_ylabel('Actual class')\n",
    "    ax1.set_xlabel('Swin prediction')\n",
    "    ax2.set_xlabel('ConvNext prediction')\n",
    "\n",
    "    for ax in [ax1, ax2]:\n",
    "        ax.set_xticks(range(30), labels=types_translated, rotation='vertical')\n",
    "        ax.grid(alpha=0.5)\n",
    "\n",
    "    # plt.show()\n",
    "    plt.tight_layout()\n",
    "    plt.savefig(name + \"_confusion.svg\", format='svg')\n",
    "    plt.clf()\n",
    "\n",
    "showTwoConfs(swin_ots, conv_ots, 'ots')\n",
    "showTwoConfs(swin_ft, conv_ft, 'ft')"
   ]
  }
 ],
 "metadata": {
  "kernelspec": {
   "display_name": "Python 3.10.4 64-bit",
   "language": "python",
   "name": "python3"
  },
  "language_info": {
   "codemirror_mode": {
    "name": "ipython",
    "version": 3
   },
   "file_extension": ".py",
   "mimetype": "text/x-python",
   "name": "python",
   "nbconvert_exporter": "python",
   "pygments_lexer": "ipython3",
   "version": "3.10.4"
  },
  "orig_nbformat": 4,
  "vscode": {
   "interpreter": {
    "hash": "916dbcbb3f70747c44a77c7bcd40155683ae19c65e1c03b4aa3499c5328201f1"
   }
  }
 },
 "nbformat": 4,
 "nbformat_minor": 2
}
