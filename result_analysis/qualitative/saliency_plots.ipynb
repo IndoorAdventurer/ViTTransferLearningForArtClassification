{
 "cells": [
  {
   "cell_type": "code",
   "execution_count": 3,
   "metadata": {},
   "outputs": [],
   "source": [
    "import numpy as np\n",
    "import matplotlib.pyplot as plt\n",
    "import pandas as pd"
   ]
  },
  {
   "cell_type": "code",
   "execution_count": 4,
   "metadata": {},
   "outputs": [],
   "source": [
    "source_path = \"/home/vincent/Documenten/BachelorsProject/qualitative/\"\n",
    "csv_file = \"/home/vincent/Documenten/BachelorsProject/GitHub_Repo/data_annotations/qualitative.csv\"\n",
    "target_dir = \"/home/vincent/Documenten/BachelorsProject/GitHub_Repo/results/qualitative/\""
   ]
  },
  {
   "cell_type": "code",
   "execution_count": 5,
   "metadata": {},
   "outputs": [],
   "source": [
    "# Translation table, converting labels from Dutch to English\n",
    "trans_tab = {\n",
    "    \"prent\": \"engraving\",\n",
    "    \"tekening\": \"drawing\",\n",
    "    \"schotel\": \"dish\",\n",
    "    \"bord (vaatwerk)\": \"plate\",\n",
    "    \"foto\": \"picture\",\n",
    "    \"schilderij\": \"painting\",\n",
    "    \"tekstblad\": \"writing\",\n",
    "    \"pot\": \"pot\",\n",
    "    \"vaas\": \"vase\",\n",
    "    \"fles\": \"bottle\",\n",
    "    \"beeldhouwwerk\": \"sculpture\",\n",
    "    \"demonstratiemodel\": \"demo model\",\n",
    "    \"miniatuur\": \"miniature\"\n",
    "}"
   ]
  },
  {
   "cell_type": "code",
   "execution_count": 6,
   "metadata": {},
   "outputs": [],
   "source": [
    "def stringFromFile(file):\n",
    "    with open(file, \"r\") as f:\n",
    "        ret = f.read()\n",
    "    return ret"
   ]
  },
  {
   "cell_type": "code",
   "execution_count": 7,
   "metadata": {},
   "outputs": [],
   "source": [
    "def plotSalience(gray, salience, prediction, x, y):\n",
    "    assert prediction in trans_tab, f\"{prediction} is not in the table yet!\"\n",
    "\n",
    "    salience = np.maximum(salience, np.quantile(salience, 0.3))\n",
    "    salience = np.minimum(salience, np.quantile(salience, 0.95))\n",
    "\n",
    "    plt.imshow(gray, cmap=\"gray\", extent=[x,x+1,y,y+1]) # left, right, bottom, top\n",
    "    plt.imshow(salience, extent=[x,x+1,y,y+1], alpha=0.8)\n",
    "    plt.text(x+0.05, y+0.08, trans_tab[prediction], bbox={'facecolor': 'white', 'alpha':0.7})"
   ]
  },
  {
   "cell_type": "code",
   "execution_count": 8,
   "metadata": {},
   "outputs": [],
   "source": [
    "true_labels = pd.read_csv(csv_file)[\"material\"].to_list()\n",
    "true_labels = [trans_tab[l] for l in true_labels]"
   ]
  },
  {
   "cell_type": "code",
   "execution_count": 16,
   "metadata": {},
   "outputs": [
    {
     "data": {
      "text/plain": [
       "<Figure size 504x288 with 0 Axes>"
      ]
     },
     "metadata": {},
     "output_type": "display_data"
    }
   ],
   "source": [
    "def makePlot(idx, offset):\n",
    "    cols = {\n",
    "        \"convnext\": 0,\n",
    "        # column one is for the actual image!\n",
    "        \"deit\": 2,\n",
    "        \"swin\": 3\n",
    "    }\n",
    "    rows = {\n",
    "        \"ots\": 1,\n",
    "        \"ft\": 0\n",
    "    }\n",
    "    \n",
    "    gray = np.load(source_path + f\"img{idx:03}_gray.npy\")\n",
    "    col = np.load(source_path + f\"img{idx:03}.npy\")\n",
    "    plt.imshow(col, extent=[1+offset,2+offset,0.5+0.5*offset,1.5+0.5*offset])\n",
    "    plt.text(1+0.1, 0.5+0.5*offset+0.1, true_labels[idx], bbox={'facecolor': 'white', 'alpha':0.7})\n",
    "\n",
    "    for col in cols:\n",
    "        for row in rows:\n",
    "            map = np.load(source_path +  f\"{col}_{row}_img{idx:03}_saliency.npy\")\n",
    "            \n",
    "            # For deit still need to take class token attention\n",
    "            if map.shape[0] == 197:\n",
    "                map = map[0, 1:].reshape((14,14))\n",
    "\n",
    "            pred = stringFromFile(source_path + f\"{col}_{row}_img{idx:03}_prediction.txt\")\n",
    "            plotSalience(gray, map, pred, cols[col] * (1 + offset), rows[row] * (1 + offset))\n",
    "    \n",
    "    plt.xlim(left=0)\n",
    "    x_ticks = []\n",
    "    x_labels = []\n",
    "    for col in cols:\n",
    "        x_ticks += [cols[col] * (1 + offset) + 0.5]\n",
    "        x_labels += [col]\n",
    "    plt.xticks(x_ticks, x_labels)\n",
    "\n",
    "    plt.ylim(top = 2 + offset)\n",
    "    plt.yticks([0.5, 1.5 + offset], labels=[\"ft\", \"ots\"])\n",
    "\n",
    "    plt.gcf().set_size_inches(7,4)\n",
    "\n",
    "    # plt.show()\n",
    "    plt.savefig(target_dir + f\"img{idx:03}_salience.png\", format=\"png\", dpi=600)\n",
    "    plt.clf()\n",
    "\n",
    "for idx in range(20):\n",
    "    makePlot(idx, 0.05)"
   ]
  }
 ],
 "metadata": {
  "interpreter": {
   "hash": "916dbcbb3f70747c44a77c7bcd40155683ae19c65e1c03b4aa3499c5328201f1"
  },
  "kernelspec": {
   "display_name": "Python 3.10.4 64-bit",
   "language": "python",
   "name": "python3"
  },
  "language_info": {
   "codemirror_mode": {
    "name": "ipython",
    "version": 3
   },
   "file_extension": ".py",
   "mimetype": "text/x-python",
   "name": "python",
   "nbconvert_exporter": "python",
   "pygments_lexer": "ipython3",
   "version": "3.10.4"
  },
  "orig_nbformat": 4
 },
 "nbformat": 4,
 "nbformat_minor": 2
}
