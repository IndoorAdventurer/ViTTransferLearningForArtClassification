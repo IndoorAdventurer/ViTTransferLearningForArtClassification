{
 "cells": [
  {
   "cell_type": "code",
   "execution_count": 1,
   "metadata": {},
   "outputs": [],
   "source": [
    "import numpy as np\n",
    "import torch\n",
    "import matplotlib.pyplot as plt"
   ]
  },
  {
   "cell_type": "code",
   "execution_count": 2,
   "metadata": {},
   "outputs": [],
   "source": [
    "def matmuls(layers_file, discard_ratio, device=\"cpu\"):\n",
    "    \"\"\" Performs attention rollout either on gpu or cpu \"\"\"\n",
    "    with open(layers_file, \"rb\") as f:\n",
    "        A = torch.tensor(np.load(f)).to(device)\n",
    "        I = torch.eye(len(A)).to(device)\n",
    "\n",
    "        result = I.clone()\n",
    "        while True:\n",
    "            A = 0.5 * A + 0.5 * I\n",
    "            threshold = torch.quantile(A, discard_ratio)\n",
    "            A[A < threshold] = 0\n",
    "            A /= torch.sum(A)\n",
    "            result = torch.matmul(A, result)\n",
    "\n",
    "            try:\n",
    "                A = torch.tensor(np.load(f)).to(device)\n",
    "            except:\n",
    "                break\n",
    "    \n",
    "    return result.detach().numpy()"
   ]
  },
  {
   "cell_type": "code",
   "execution_count": 6,
   "metadata": {},
   "outputs": [
    {
     "name": "stderr",
     "output_type": "stream",
     "text": [
      "UsageError: Invalid GUI request 'gtk4', valid ones are:dict_keys(['inline', 'nbagg', 'notebook', 'ipympl', 'widget', None, 'qt4', 'qt', 'qt5', 'wx', 'tk', 'gtk', 'gtk3', 'osx', 'asyncio'])\n"
     ]
    }
   ],
   "source": [
    "img = 0\n",
    "method = \"ots\"\n",
    "path = \"/home/vincent/Documenten/BachelorsProject/qualitative/\"\n",
    "layers = path + \"deit_\" + method + f\"_img{img:03}_layers.npy\"\n",
    "gray = path + f\"img{img:03}.npy\"\n",
    "\n",
    "result = matmuls(layers, 0.5)\n",
    "im = np.load(gray)\n",
    "\n",
    "# Plotting\n",
    "# plt.imshow(im, cmap=\"gray\")\n",
    "# plt.show()\n",
    "\n",
    "plt.imshow(im, cmap=\"gray\", extent=(0, 1, 1, 0))\n",
    "l = int((result.shape[1] - 1) ** 0.5)\n",
    "plt.imshow(result[0, 1:].reshape((l,l)), cmap=\"inferno\", alpha=0.8, extent=(0, 1, 1, 0))\n",
    "plt.show()\n",
    "\n",
    "# for idx in range(100):\n",
    "#     result = matmuls(layers, idx / 100)\n",
    "#     plt.imshow(im, cmap=\"gray\", extent=(0, 1, 1, 0))\n",
    "#     l = int((result.shape[1] - 1) ** 0.5)\n",
    "#     plt.imshow(result[0, 1:].reshape((l,l)), cmap=\"inferno\", alpha=0.8, extent=(0, 1, 1, 0))\n",
    "#     plt.title(f\"{idx}%\")\n",
    "#     plt.pause(0.001)"
   ]
  },
  {
   "cell_type": "code",
   "execution_count": null,
   "metadata": {},
   "outputs": [],
   "source": []
  }
 ],
 "metadata": {
  "interpreter": {
   "hash": "916dbcbb3f70747c44a77c7bcd40155683ae19c65e1c03b4aa3499c5328201f1"
  },
  "kernelspec": {
   "display_name": "Python 3 (ipykernel)",
   "language": "python",
   "name": "python3"
  },
  "language_info": {
   "codemirror_mode": {
    "name": "ipython",
    "version": 3
   },
   "file_extension": ".py",
   "mimetype": "text/x-python",
   "name": "python",
   "nbconvert_exporter": "python",
   "pygments_lexer": "ipython3",
   "version": "3.10.4"
  }
 },
 "nbformat": 4,
 "nbformat_minor": 2
}
