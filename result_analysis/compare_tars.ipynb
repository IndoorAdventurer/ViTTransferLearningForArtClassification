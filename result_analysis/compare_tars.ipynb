{
 "cells": [
  {
   "cell_type": "markdown",
   "metadata": {},
   "source": [
    "Compares contents of tarfiles (datasetst) to one another (how much they overlap in terms of images, for example)"
   ]
  },
  {
   "cell_type": "code",
   "execution_count": 1,
   "metadata": {},
   "outputs": [],
   "source": [
    "import tarfile\n",
    "import os"
   ]
  },
  {
   "cell_type": "code",
   "execution_count": 2,
   "metadata": {},
   "outputs": [],
   "source": [
    "target_dir = \"/home/vincent/Documenten/BachelorsProject/Rijksdata/materials/\""
   ]
  },
  {
   "cell_type": "code",
   "execution_count": 3,
   "metadata": {},
   "outputs": [],
   "source": [
    "# Get all tar files\n",
    "tars = []\n",
    "for file in os.scandir(target_dir):\n",
    "    if file.is_file() and file.path.endswith(\"tar.gz\"):\n",
    "        tars += [file.path]"
   ]
  },
  {
   "cell_type": "code",
   "execution_count": 4,
   "metadata": {},
   "outputs": [],
   "source": [
    "# For each tar, get a set of all constituent jpg-files\n",
    "jpgs = []\n",
    "for tar in tars:\n",
    "    with tarfile.open(tar, \"r:gz\") as t:\n",
    "        tmp = {jpg.name for jpg in t.getmembers() if jpg.path.endswith(\"jpg\")}\n",
    "        jpgs += [tmp]"
   ]
  },
  {
   "cell_type": "code",
   "execution_count": 5,
   "metadata": {},
   "outputs": [
    {
     "name": "stdout",
     "output_type": "stream",
     "text": [
      "1.000 0.799 0.798 0.799 0.796 \n",
      "0.799 1.000 0.799 0.800 0.798 \n",
      "0.798 0.799 1.000 0.798 0.797 \n",
      "0.799 0.800 0.798 1.000 0.797 \n",
      "0.796 0.798 0.797 0.797 1.000 \n"
     ]
    }
   ],
   "source": [
    "# Print how much overlap there is. I.e. how big a fraction of set x is also present in set y\n",
    "for y in range(len(jpgs)):\n",
    "    for x in range(len(jpgs)):\n",
    "        print(f\"{( len(jpgs[x] & jpgs[y]) / len(jpgs[x]) ):0.3f}\", end=\" \")\n",
    "    print(\"\")"
   ]
  },
  {
   "cell_type": "code",
   "execution_count": 8,
   "metadata": {},
   "outputs": [
    {
     "name": "stdout",
     "output_type": "stream",
     "text": [
      "0.7980225988700566\n"
     ]
    }
   ],
   "source": [
    "sum = 0\n",
    "cnt = 0\n",
    "for x in range(1, 5):\n",
    "    for y in range(0, x):\n",
    "        sum += ( len(jpgs[x] & jpgs[y]) / len(jpgs[x]) )\n",
    "        cnt += 1\n",
    "print(sum /cnt)"
   ]
  }
 ],
 "metadata": {
  "interpreter": {
   "hash": "916dbcbb3f70747c44a77c7bcd40155683ae19c65e1c03b4aa3499c5328201f1"
  },
  "kernelspec": {
   "display_name": "Python 3.10.4 64-bit",
   "language": "python",
   "name": "python3"
  },
  "language_info": {
   "codemirror_mode": {
    "name": "ipython",
    "version": 3
   },
   "file_extension": ".py",
   "mimetype": "text/x-python",
   "name": "python",
   "nbconvert_exporter": "python",
   "pygments_lexer": "ipython3",
   "version": "3.10.4"
  },
  "orig_nbformat": 4
 },
 "nbformat": 4,
 "nbformat_minor": 2
}
