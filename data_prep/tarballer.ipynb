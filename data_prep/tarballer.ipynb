{
 "cells": [
  {
   "cell_type": "markdown",
   "metadata": {},
   "source": [
    "# Creates a tarbal containing a dataset"
   ]
  },
  {
   "cell_type": "code",
   "execution_count": 1,
   "metadata": {},
   "outputs": [],
   "source": [
    "import pandas as pd\n",
    "import tarfile\n",
    "from os import path"
   ]
  },
  {
   "cell_type": "code",
   "execution_count": 2,
   "metadata": {},
   "outputs": [],
   "source": [
    "partial_path = \"/home/vincent/Documenten/BachelorsProject/GitHub_Repo/data_prep/fullsize-\"\n",
    "train_csv = partial_path + \"train.csv\"\n",
    "val_csv = partial_path + \"val.csv\"\n",
    "test_csv = partial_path + \"test.csv\"\n",
    "hist_csv = partial_path + \"hist.csv\""
   ]
  },
  {
   "cell_type": "code",
   "execution_count": 11,
   "metadata": {},
   "outputs": [],
   "source": [
    "# Concat the full dataset from the splits:\n",
    "df = pd.concat([\n",
    "    pd.read_csv(train_csv),\n",
    "    pd.read_csv(val_csv),\n",
    "    pd.read_csv(test_csv),\n",
    "])"
   ]
  },
  {
   "cell_type": "code",
   "execution_count": 12,
   "metadata": {},
   "outputs": [
    {
     "name": "stdout",
     "output_type": "stream",
     "text": [
      "Done!\n"
     ]
    }
   ],
   "source": [
    "# Iterating over files and adding them to the tarball:\n",
    "source_path = \"/home/vincent/Documenten/BachelorsProject/Rijksdata/jpg\"\n",
    "target_tar = \"/home/vincent/Documenten/BachelorsProject/Rijksdata/jpg_fullsize_artist4.tar.gz\"\n",
    "with tarfile.open(target_tar, \"w:gz\") as tar:\n",
    "    # Adding the csv-files:\n",
    "    tar.add(train_csv, path.basename(train_csv))\n",
    "    tar.add(val_csv, path.basename(val_csv))\n",
    "    tar.add(test_csv, path.basename(test_csv))\n",
    "    tar.add(hist_csv, path.basename(hist_csv))\n",
    "\n",
    "    # Adding images:\n",
    "    for jpg in df[\"jpg\"]:\n",
    "        tar.add(path.join(source_path, jpg), arcname=jpg)\n",
    "\n",
    "print(\"Done!\")"
   ]
  }
 ],
 "metadata": {
  "interpreter": {
   "hash": "916dbcbb3f70747c44a77c7bcd40155683ae19c65e1c03b4aa3499c5328201f1"
  },
  "kernelspec": {
   "display_name": "Python 3.10.4 64-bit",
   "language": "python",
   "name": "python3"
  },
  "language_info": {
   "codemirror_mode": {
    "name": "ipython",
    "version": 3
   },
   "file_extension": ".py",
   "mimetype": "text/x-python",
   "name": "python",
   "nbconvert_exporter": "python",
   "pygments_lexer": "ipython3",
   "version": "3.10.4"
  },
  "orig_nbformat": 4
 },
 "nbformat": 4,
 "nbformat_minor": 2
}
