{
 "cells": [
  {
   "cell_type": "markdown",
   "metadata": {},
   "source": [
    "Eventually outputs a full subset of the Rijksmuseum dataset, in the form of a csv-file containing image file name and corresponding material.\n",
    "\n",
    "The Rijksmuseum set is very unbalanced: while there are 400 material classes, 84% falls within the `papier' class. The script below outputs a subset that is much more balanced.\n",
    "\n",
    "Moreover, a small fraction of the collection has multiple materials, and another fraction has none at all. These are removed from the dataset."
   ]
  },
  {
   "cell_type": "code",
   "execution_count": null,
   "metadata": {},
   "outputs": [],
   "source": [
    "import os\n",
    "import random\n",
    "import pandas as pd"
   ]
  },
  {
   "cell_type": "code",
   "execution_count": null,
   "metadata": {},
   "outputs": [],
   "source": [
    "# Folder containing all the xml metadata files:\n",
    "xmlPath = \"/home/vincent/Documenten/BachelorsProject/Rijksdata/xml/\""
   ]
  },
  {
   "cell_type": "code",
   "execution_count": null,
   "metadata": {},
   "outputs": [],
   "source": [
    "# Takes the contents of an xml metadata file as input, and outputs\n",
    "# list of materials it specified\n",
    "def extractMaterials(xmlFile):\n",
    "    with open(xmlFile) as f:\n",
    "        xmlStr = f.read()\n",
    "    \n",
    "    materials = []\n",
    "    \n",
    "    matchStr = \"<dc:format>materiaal: \"\n",
    "    begin = xmlStr.find(matchStr)\n",
    "    while begin != -1:\n",
    "        end = xmlStr.find(\"<\", begin + len(matchStr))\n",
    "        materials += [xmlStr[begin + len(matchStr):end]]\n",
    "        begin = xmlStr.find(matchStr, end)\n",
    "    \n",
    "    return materials"
   ]
  },
  {
   "cell_type": "code",
   "execution_count": null,
   "metadata": {},
   "outputs": [],
   "source": [
    "# Getting all (\"image-filename\", [materials]) pairs\n",
    "pairs_full = [[file.name, extractMaterials(file.path)] for file in os.scandir(xmlPath) if file.is_file()]"
   ]
  },
  {
   "cell_type": "code",
   "execution_count": null,
   "metadata": {},
   "outputs": [],
   "source": [
    "# Now only the ones with a single material (so not 0 and not multiple)\n",
    "pairs = [[pair[0], pair[1][0]] for pair in pairs_full if len(pair[1]) == 1]"
   ]
  },
  {
   "cell_type": "code",
   "execution_count": null,
   "metadata": {},
   "outputs": [],
   "source": [
    "# Creating a histogram containing how often each class occurs:\n",
    "def createHist(pairs):\n",
    "    hist = {}\n",
    "    for pair in pairs:\n",
    "        if pair[1] in hist:\n",
    "            hist[pair[1]] += 1\n",
    "        else:\n",
    "            hist[pair[1]] = 1\n",
    "\n",
    "    # Convert to sorted list:\n",
    "    hist = [[mat, hist[mat]] for mat in hist]\n",
    "    hist.sort(key = lambda x: x[1], reverse = True)\n",
    "\n",
    "    return hist\n",
    "\n",
    "hist = createHist(pairs)"
   ]
  },
  {
   "cell_type": "code",
   "execution_count": null,
   "metadata": {},
   "outputs": [],
   "source": [
    "# Printing material, count, and percentage count of total\n",
    "def printHist(hist):\n",
    "    total = 0\n",
    "    for row in hist:\n",
    "        total += row[1]\n",
    "\n",
    "    for row in hist:\n",
    "        print(f\"{row[0]}, {row[1]}, {(100 * row[1] / total):>0.1f}%\")\n",
    "\n",
    "printHist(hist)"
   ]
  },
  {
   "cell_type": "code",
   "execution_count": null,
   "metadata": {},
   "outputs": [],
   "source": [
    "# Creating a subset where there is a maximum to the number of instances per class.\n",
    "# If a class has more than this maximum, an random sample is picked.\n",
    "# Moreover, there is a maximum number of classes\n",
    "max_instances = 1000\n",
    "num_classes = 30\n",
    "\n",
    "# Splitting the first 'num_classes' into a set of small enough ones and too big ones:\n",
    "good_sized_classes = [row[0] for row in hist[:num_classes] if row[1] <= max_instances]\n",
    "too_big_classes    = [row[0] for row in hist[:num_classes] if row[1] >  max_instances]\n",
    "\n",
    "# Already adding all instances of 'good_sized_classes':\n",
    "pairs_subset = [pair for pair in pairs if pair[1] in good_sized_classes]\n",
    "\n",
    "# Adding 'max_instances' random samples of the too big classes:\n",
    "for material in too_big_classes:\n",
    "    all = [pair for pair in pairs if pair[1] == material]\n",
    "    random.shuffle(all)\n",
    "    pairs_subset += all[:max_instances]\n",
    "\n",
    "# Finally, randomly shuffling the subset:\n",
    "random.shuffle(pairs_subset)"
   ]
  },
  {
   "cell_type": "code",
   "execution_count": null,
   "metadata": {},
   "outputs": [],
   "source": [
    "hist_subset = createHist(pairs_subset)\n",
    "\n",
    "print(f\"SUBSET WITH {num_classes} CLASSES, AND {len(pairs_subset)} ELEMENTS\\n\")\n",
    "printHist(hist_subset)"
   ]
  },
  {
   "cell_type": "code",
   "execution_count": null,
   "metadata": {},
   "outputs": [],
   "source": [
    "# Saving the new subset as a csv file:\n",
    "subsetDf = pd.DataFrame.from_dict({\n",
    "    \"jpg\":      [row[0] for row in pairs_subset],\n",
    "    \"material\": [row[1] for row in pairs_subset]\n",
    "})\n",
    "\n",
    "subsetDf.to_csv(\"subset_data.csv\")"
   ]
  },
  {
   "cell_type": "code",
   "execution_count": null,
   "metadata": {},
   "outputs": [],
   "source": [
    "# Saving the corresponding histogram as well:\n",
    "subsetHistDf = pd.DataFrame.from_dict({\n",
    "    \"material\": [row[0] for row in hist_subset],\n",
    "    \"count\":    [row[1] for row in hist_subset]\n",
    "})\n",
    "\n",
    "subsetHistDf.to_csv(\"subset_hist_data.csv\")"
   ]
  }
 ],
 "metadata": {
  "interpreter": {
   "hash": "767d51c1340bd893661ea55ea3124f6de3c7a262a8b4abca0554b478b1e2ff90"
  },
  "kernelspec": {
   "display_name": "Python 3.9.12 64-bit",
   "language": "python",
   "name": "python3"
  },
  "language_info": {
   "codemirror_mode": {
    "name": "ipython",
    "version": 3
   },
   "file_extension": ".py",
   "mimetype": "text/x-python",
   "name": "python",
   "nbconvert_exporter": "python",
   "pygments_lexer": "ipython3",
   "version": "3.9.12"
  },
  "orig_nbformat": 4
 },
 "nbformat": 4,
 "nbformat_minor": 2
}
